{
  "nbformat": 4,
  "nbformat_minor": 0,
  "metadata": {
    "colab": {
      "name": "Randomforest.ipynb",
      "provenance": [],
      "mount_file_id": "1q0ugGz7bqXtY5LuYR6S4X4LdmAdw_oSV",
      "authorship_tag": "ABX9TyNX9cQRe/xjq8vlbW4EHQ6+",
      "include_colab_link": true
    },
    "kernelspec": {
      "name": "python3",
      "display_name": "Python 3"
    }
  },
  "cells": [
    {
      "cell_type": "markdown",
      "metadata": {
        "id": "view-in-github",
        "colab_type": "text"
      },
      "source": [
        "<a href=\"https://colab.research.google.com/github/Naveen963/MachineLearning-Algorithms/blob/master/Randomforest.ipynb\" target=\"_parent\"><img src=\"https://colab.research.google.com/assets/colab-badge.svg\" alt=\"Open In Colab\"/></a>"
      ]
    },
    {
      "cell_type": "markdown",
      "metadata": {
        "id": "u8e-Ey5kBsC9",
        "colab_type": "text"
      },
      "source": [
        "Building Machine Learning Classifiers:Building a basic Random Forest Model"
      ]
    },
    {
      "cell_type": "code",
      "metadata": {
        "id": "TEtcGNlhBlX7",
        "colab_type": "code",
        "colab": {}
      },
      "source": [
        "import nltk\n",
        "import pandas as pd\n",
        "import string\n",
        "import re\n",
        "from sklearn.feature_extraction.text import TfidfVectorizer\n",
        "\n",
        "nltk.download(\"stopwords\")\n",
        "nltk.download(\"wordnet\")\n",
        "\n",
        "data = pd.read_csv(\"SMSSpamCollection.tsv\",sep=\"\\t\")\n",
        "data.columns = ['labels','body_text']\n",
        "stopwords = nltk.corpus.stopwords.words(\"english\")\n",
        "ps = nltk.PorterStemmer()\n",
        "\n",
        "def count_punct(text):\n",
        "  count = sum([1 for word in text if word in string.punctuation])\n",
        "  return round(count/(len(text)-text.count(\" \")),3)*100\n",
        "\n",
        "data[\"body_len\"] = data[\"body_text\"].apply(lambda x:len(x)-x.count(\" \"))\n",
        "data[\"punct%\"] = data[\"body_text\"].apply(lambda x:count_punct(x))\n",
        "\n",
        "def clear_text(text):\n",
        "  text=\"\".join([word.lower() for word in text if word not in string.punctuation])\n",
        "  tokens=re.split(\"\\W+\",text)\n",
        "  text=[ps.stem(word) for word in tokens if word not in stopwords]\n",
        "  return text\n",
        "tfidf_vect=TfidfVectorizer(analyzer=clear_text)\n",
        "X_tfidf=tfidf_vect.fit_transform(data[\"body_text\"])\n",
        "X_features=pd.concat([data['body_len'],data[\"punct%\"],pd.DataFrame(X_tfidf.toarray())],axis=1)\n",
        "X_features.head(50)"
      ],
      "execution_count": 0,
      "outputs": []
    },
    {
      "cell_type": "code",
      "metadata": {
        "id": "QuvmGsu3Cyn0",
        "colab_type": "code",
        "colab": {}
      },
      "source": [
        "from sklearn.ensemble import RandomForestClassifier"
      ],
      "execution_count": 0,
      "outputs": []
    },
    {
      "cell_type": "code",
      "metadata": {
        "id": "eJxjFEbfQUtt",
        "colab_type": "code",
        "colab": {}
      },
      "source": [
        "print(dir(RandomForestClassifier))\n",
        "print(RandomForestClassifier())"
      ],
      "execution_count": 0,
      "outputs": []
    },
    {
      "cell_type": "code",
      "metadata": {
        "id": "SgUZR__iQiuE",
        "colab_type": "code",
        "colab": {}
      },
      "source": [
        "from sklearn.model_selection import KFold,cross_val_score"
      ],
      "execution_count": 0,
      "outputs": []
    },
    {
      "cell_type": "code",
      "metadata": {
        "id": "GUUakI_aR0zs",
        "colab_type": "code",
        "colab": {}
      },
      "source": [
        "rf=RandomForestClassifier(n_jobs=-1)\n",
        "k_folds=KFold(n_splits=5)\n",
        "cross_val_score(rf,X_features,data['labels'],cv=k_folds,scoring=\"accuracy\",n_jobs=-1)"
      ],
      "execution_count": 0,
      "outputs": []
    },
    {
      "cell_type": "code",
      "metadata": {
        "id": "7FMxvwX2Szrx",
        "colab_type": "code",
        "colab": {}
      },
      "source": [
        "from sklearn.metrics import precision_recall_fscore_support as score\n",
        "from sklearn.model_selection import train_test_split"
      ],
      "execution_count": 0,
      "outputs": []
    },
    {
      "cell_type": "code",
      "metadata": {
        "id": "OukEOqMUVB-b",
        "colab_type": "code",
        "colab": {}
      },
      "source": [
        "X_train,X_test,Y_train,Y_test=train_test_split(X_features,data['labels'],test_size=0.2)"
      ],
      "execution_count": 0,
      "outputs": []
    },
    {
      "cell_type": "code",
      "metadata": {
        "id": "JgjH9XmoXSP3",
        "colab_type": "code",
        "colab": {}
      },
      "source": [
        "RandomForestClassifier(n_estimators=50,max_depth=20,n_jobs=-1)\n",
        "rf_model=rf.fit(X_train,Y_train)"
      ],
      "execution_count": 0,
      "outputs": []
    },
    {
      "cell_type": "code",
      "metadata": {
        "id": "dOr072-ZXset",
        "colab_type": "code",
        "outputId": "8ace668d-a31e-405c-ee03-45aab6ded597",
        "colab": {
          "base_uri": "https://localhost:8080/",
          "height": 190
        }
      },
      "source": [
        "sorted(zip(rf_model.feature_importances_,X_train.columns),reverse=True)[0:10]"
      ],
      "execution_count": 0,
      "outputs": [
        {
          "output_type": "execute_result",
          "data": {
            "text/plain": [
              "[(0.0457915709412991, 'body_len'),\n",
              " (0.028792041563502156, 1803),\n",
              " (0.02596507353876682, 7350),\n",
              " (0.025300378144450436, 2031),\n",
              " (0.024818104983428672, 4796),\n",
              " (0.02122927466553095, 3134),\n",
              " (0.01576177259580697, 6285),\n",
              " (0.013961375272507319, 5724),\n",
              " (0.012263525331041199, 7027),\n",
              " (0.011588022753052055, 5988)]"
            ]
          },
          "metadata": {
            "tags": []
          },
          "execution_count": 25
        }
      ]
    },
    {
      "cell_type": "code",
      "metadata": {
        "id": "qUHz8zIyYIZz",
        "colab_type": "code",
        "outputId": "f7494585-7bd7-43a1-b1a2-e696506b6a31",
        "colab": {
          "base_uri": "https://localhost:8080/",
          "height": 69
        }
      },
      "source": [
        "y_pred=rf_model.predict(X_test)\n",
        "precision,recall,fscore,support=score(Y_test,y_pred,pos_label=\"spam\",average=\"binary\")\n",
        "print(\"Precision : {}\\n Recall : {}\\n Accuracy:{}\".format(round(precision,3),round(recall,3),(y_pred==Y_test).sum()/len(y_pred)))"
      ],
      "execution_count": 0,
      "outputs": [
        {
          "output_type": "stream",
          "text": [
            "Precision : 1.0\n",
            " Recall : 0.949\n",
            " Accuracy:0.992818671454219\n"
          ],
          "name": "stdout"
        }
      ]
    },
    {
      "cell_type": "markdown",
      "metadata": {
        "id": "Nvy78637f7pG",
        "colab_type": "text"
      },
      "source": [
        "BUild our own Grid Search\n"
      ]
    },
    {
      "cell_type": "code",
      "metadata": {
        "id": "c0xWSvc5cLfV",
        "colab_type": "code",
        "colab": {}
      },
      "source": [
        "from sklearn.model_selection import train_test_split\n",
        "from sklearn.ensemble import RandomForestClassifier\n",
        "from sklearn.metrics import precision_recall_fscore_support as score"
      ],
      "execution_count": 0,
      "outputs": []
    },
    {
      "cell_type": "code",
      "metadata": {
        "id": "Hz9Iw7ubgoGw",
        "colab_type": "code",
        "colab": {}
      },
      "source": [
        "X_train,X_test,Y_train,Y_test=train_test_split(X_features,data['labels'],test_size=0.2)"
      ],
      "execution_count": 0,
      "outputs": []
    },
    {
      "cell_type": "code",
      "metadata": {
        "id": "xqBEL8Ing-ME",
        "colab_type": "code",
        "colab": {}
      },
      "source": [
        "def train_RF(n_est,depth):\n",
        "  rf=RandomForestClassifier(n_estimators=n_est,max_depth=depth,n_jobs=-1)\n",
        "  rf_model=rf.fit(X_train,Y_train)\n",
        "  y_pred=rf_model.predict(X_test)\n",
        "  precision,recall,fscore,support=score(Y_test,y_pred,pos_label=\"spam\",average=\"binary\")\n",
        "  print(\"Est:{} \\n Depth:{}\\n Precision:{}\\n Recall:{}\\n Accuracy:{}\".format(n_est,depth,round(precision,3),round(recall,3),round((y_pred==Y_test).sum()/len(y_pred),3)))"
      ],
      "execution_count": 0,
      "outputs": []
    },
    {
      "cell_type": "code",
      "metadata": {
        "id": "O-qFLJmThOdi",
        "colab_type": "code",
        "outputId": "64d20c74-0898-498d-9a93-4d47dac22fd3",
        "colab": {
          "base_uri": "https://localhost:8080/",
          "height": 1000
        }
      },
      "source": [
        "for n_est in [10,50,100]:\n",
        "  for depth in [10,20,30,None]:\n",
        "    train_RF(n_est,depth)"
      ],
      "execution_count": 0,
      "outputs": [
        {
          "output_type": "stream",
          "text": [
            "Est:10 \n",
            " Depth:10\n",
            " Precision:1.0\n",
            " Recall:0.227\n",
            " Accuracy:0.887\n",
            "Est:10 \n",
            " Depth:20\n",
            " Precision:1.0\n",
            " Recall:0.589\n",
            " Accuracy:0.94\n",
            "Est:10 \n",
            " Depth:30\n",
            " Precision:1.0\n",
            " Recall:0.663\n",
            " Accuracy:0.951\n",
            "Est:10 \n",
            " Depth:None\n",
            " Precision:1.0\n",
            " Recall:0.785\n",
            " Accuracy:0.969\n",
            "Est:50 \n",
            " Depth:10\n",
            " Precision:1.0\n",
            " Recall:0.227\n",
            " Accuracy:0.887\n",
            "Est:50 \n",
            " Depth:20\n",
            " Precision:1.0\n",
            " Recall:0.632\n",
            " Accuracy:0.946\n",
            "Est:50 \n",
            " Depth:30\n",
            " Precision:1.0\n",
            " Recall:0.675\n",
            " Accuracy:0.952\n",
            "Est:50 \n",
            " Depth:None\n",
            " Precision:1.0\n",
            " Recall:0.822\n",
            " Accuracy:0.974\n",
            "Est:100 \n",
            " Depth:10\n",
            " Precision:1.0\n",
            " Recall:0.178\n",
            " Accuracy:0.88\n",
            "Est:100 \n",
            " Depth:20\n",
            " Precision:1.0\n",
            " Recall:0.601\n",
            " Accuracy:0.942\n",
            "Est:100 \n",
            " Depth:30\n",
            " Precision:1.0\n",
            " Recall:0.706\n",
            " Accuracy:0.957\n",
            "Est:100 \n",
            " Depth:None\n",
            " Precision:1.0\n",
            " Recall:0.798\n",
            " Accuracy:0.97\n"
          ],
          "name": "stdout"
        }
      ]
    },
    {
      "cell_type": "code",
      "metadata": {
        "id": "V5YMy8i7jNCt",
        "colab_type": "code",
        "colab": {}
      },
      "source": [
        ""
      ],
      "execution_count": 0,
      "outputs": []
    }
  ]
}

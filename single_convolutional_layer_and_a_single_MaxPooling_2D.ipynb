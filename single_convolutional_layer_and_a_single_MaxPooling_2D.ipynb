{
  "nbformat": 4,
  "nbformat_minor": 0,
  "metadata": {
    "colab": {
      "name": "single convolutional layer and a single MaxPooling 2D.ipynb",
      "provenance": [],
      "authorship_tag": "ABX9TyO+DmCSt7xDVlgv7nFAILYx"
    },
    "kernelspec": {
      "name": "python3",
      "display_name": "Python 3"
    }
  },
  "cells": [
    {
      "cell_type": "code",
      "metadata": {
        "id": "bMRqzpe22_Nq",
        "colab_type": "code",
        "colab": {
          "base_uri": "https://localhost:8080/",
          "height": 658
        },
        "outputId": "90fad532-ae4b-45b7-88f2-b4b25fe91a26"
      },
      "source": [
        "import tensorflow as tf\n",
        "print(tf.__version__)\n",
        "\n",
        "\n",
        "class myCallback(tf.keras.callbacks.Callback):\n",
        "  def on_epoch_end(self, epoch, logs={}):\n",
        "    if(logs.get('accuracy') > .998):\n",
        "      print(\"\\nReached 99.8% accuracy so cancelling training!\")\n",
        "      self.model.stop_training = True\n",
        "callbacks = myCallback() \n",
        "\n",
        "\n",
        "\n",
        "\n",
        "mnist = tf.keras.datasets.mnist\n",
        "(training_images, training_labels), (test_images, test_labels) = mnist.load_data()\n",
        "\n",
        "\n",
        "print(\"training image shape:{0} test image shape:{1}\".format(training_images.shape,test_images.shape))\n",
        "\n",
        "training_images = training_images.reshape(training_images.shape[0],training_images.shape[1],training_images.shape[2],1)\n",
        "training_images = training_images/255.0\n",
        "test_images = test_images.reshape(test_images.shape[0],test_images.shape[1],test_images.shape[2],1)\n",
        "test_images = test_images/255.0\n",
        "#print(\"training image after reshape:{0} test image after reshape:{1}\".format(training_images.shape,test_images.shape))\n",
        "\n",
        "model = tf.keras.models.Sequential()\n",
        "\n",
        "model.add(tf.keras.layers.Conv2D(64,(3,3),activation='relu',input_shape=(28,28,1)))\n",
        "model.add(tf.keras.layers.MaxPooling2D(2,2))\n",
        "model.add(tf.keras.layers.Flatten())\n",
        "model.add(tf.keras.layers.Dense(524,activation='relu'))\n",
        "model.add(tf.keras.layers.Dense(10,activation='softmax'))\n",
        " \n",
        "model.compile(optimizer='adam',loss='sparse_categorical_crossentropy',metrics=['accuracy'])\n",
        "model.summary()\n",
        "model.fit(training_images,training_labels,epochs=20,callbacks=[callbacks])\n",
        "\n",
        "\n",
        "test_loss = model.evaluate(test_images, test_labels)"
      ],
      "execution_count": 2,
      "outputs": [
        {
          "output_type": "stream",
          "text": [
            "2.2.0\n",
            "training image shape:(60000, 28, 28) test image shape:(10000, 28, 28)\n",
            "Model: \"sequential_1\"\n",
            "_________________________________________________________________\n",
            "Layer (type)                 Output Shape              Param #   \n",
            "=================================================================\n",
            "conv2d_1 (Conv2D)            (None, 26, 26, 64)        640       \n",
            "_________________________________________________________________\n",
            "max_pooling2d_1 (MaxPooling2 (None, 13, 13, 64)        0         \n",
            "_________________________________________________________________\n",
            "flatten_1 (Flatten)          (None, 10816)             0         \n",
            "_________________________________________________________________\n",
            "dense_2 (Dense)              (None, 524)               5668108   \n",
            "_________________________________________________________________\n",
            "dense_3 (Dense)              (None, 10)                5250      \n",
            "=================================================================\n",
            "Total params: 5,673,998\n",
            "Trainable params: 5,673,998\n",
            "Non-trainable params: 0\n",
            "_________________________________________________________________\n",
            "Epoch 1/20\n",
            "1875/1875 [==============================] - 124s 66ms/step - loss: 0.1189 - accuracy: 0.9642\n",
            "Epoch 2/20\n",
            "1875/1875 [==============================] - 122s 65ms/step - loss: 0.0410 - accuracy: 0.9874\n",
            "Epoch 3/20\n",
            "1875/1875 [==============================] - 122s 65ms/step - loss: 0.0208 - accuracy: 0.9935\n",
            "Epoch 4/20\n",
            "1875/1875 [==============================] - 121s 65ms/step - loss: 0.0146 - accuracy: 0.9951\n",
            "Epoch 5/20\n",
            "1875/1875 [==============================] - 121s 65ms/step - loss: 0.0092 - accuracy: 0.9971\n",
            "Epoch 6/20\n",
            "1875/1875 [==============================] - 120s 64ms/step - loss: 0.0067 - accuracy: 0.9978\n",
            "Epoch 7/20\n",
            "1875/1875 [==============================] - ETA: 0s - loss: 0.0054 - accuracy: 0.9982\n",
            "Reached 99.8% accuracy so cancelling training!\n",
            "1875/1875 [==============================] - 120s 64ms/step - loss: 0.0054 - accuracy: 0.9982\n",
            "313/313 [==============================] - 5s 16ms/step - loss: 0.0667 - accuracy: 0.9851\n"
          ],
          "name": "stdout"
        }
      ]
    }
  ]
}